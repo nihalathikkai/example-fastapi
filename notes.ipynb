{
 "cells": [
  {
   "cell_type": "markdown",
   "metadata": {},
   "source": [
    "##### Create a virtual environment  \n",
    "python -m venv venv\n",
    "\n",
    "\n",
    "##### Activate Virtual Environment\n",
    "venv\\Scripts\\activate.bat\n",
    "\n",
    "\n",
    "##### Host the API on local machine\n",
    "uvicorn main:app\n",
    "\n",
    "Host the API on local machine, reload API if any changes detected :-  \n",
    "uvicorn main:app --reload"
   ]
  },
  {
   "cell_type": "markdown",
   "metadata": {},
   "source": [
    "_________________________________________________  \n",
    "HTTP REQUEST  \n",
    "\n",
    "Request:  \n",
    "- Address  \n",
    "- Request method  \n",
    "- Headers  \n",
    "- Body  \n",
    "\n",
    "Response  \n",
    "- Status Code  \n",
    "- Headers  \n",
    "- Body  \n",
    "\n",
    "_________________________________________________"
   ]
  },
  {
   "cell_type": "code",
   "execution_count": null,
   "metadata": {},
   "outputs": [],
   "source": []
  },
  {
   "cell_type": "markdown",
   "metadata": {},
   "source": [
    "Dynamic programming:\n",
    "https://www.youtube.com/watch?v=oBt53YbR9Kk\n",
    "\n",
    "Harvard CS:\n",
    "https://www.youtube.com/watch?v=8mAITcNt710"
   ]
  },
  {
   "cell_type": "code",
   "execution_count": null,
   "metadata": {},
   "outputs": [],
   "source": []
  },
  {
   "cell_type": "code",
   "execution_count": 81,
   "metadata": {},
   "outputs": [],
   "source": []
  },
  {
   "cell_type": "code",
   "execution_count": 2,
   "metadata": {},
   "outputs": [
    {
     "name": "stdout",
     "output_type": "stream",
     "text": [
      "stysh.aalyzdh@example.com musica\n"
     ]
    }
   ],
   "source": [
    "# Create users\n",
    "\n",
    "import requests\n",
    "from datetime import datetime\n",
    "import psycopg2\n",
    "from passlib.context import CryptContext\n",
    "\n",
    "\n",
    "pwd_context = CryptContext(schemes=[\"bcrypt\"], deprecated=\"auto\")\n",
    "\n",
    "\n",
    "def get_password_hash(password):\n",
    "    return pwd_context.hash(password)\n",
    "\n",
    "\n",
    "conn = psycopg2.connect(dbname=\"fastapi\", user=\"postgres\", password=\"superuser\", host=\"localhost\", port=5432)\n",
    "cur = conn.cursor()\n",
    "        \n",
    "        \n",
    "for i in range(10):\n",
    "    r = requests.get('https://randomuser.me/api/')\n",
    "    data = r.json()[\"results\"][0]\n",
    "\n",
    "    email = data[\"email\"]\n",
    "    password = data[\"login\"][\"password\"]\n",
    "    name = data[\"name\"][\"first\"] + \" \" + data[\"name\"][\"last\"]\n",
    "    gender = data[\"gender\"]\n",
    "    country = data[\"location\"][\"country\"]\n",
    "    dob = datetime.strptime(data[\"dob\"][\"date\"][:10], '%Y-%m-%d')\n",
    "    print(email, password)\n",
    "    \n",
    "    password = get_password_hash(password)\n",
    "    cur.execute(\"INSERT INTO users (email, password, name, gender, country, dob) VALUES (%s, %s, %s, %s, %s, %s)\", (email, password, name, gender, country, dob))\n",
    "\n",
    "conn.commit()\n",
    "\n",
    "cur.close()\n",
    "conn.close()\n"
   ]
  },
  {
   "cell_type": "code",
   "execution_count": 86,
   "metadata": {},
   "outputs": [],
   "source": []
  },
  {
   "cell_type": "code",
   "execution_count": 87,
   "metadata": {},
   "outputs": [
    {
     "name": "stdout",
     "output_type": "stream",
     "text": [
      "d:\\python\\FastAPI\\venv\\Scripts;D:\\python\\FastAPI\\venv\\Scripts;D:\\Programs\\Oracle_XE\\18.0.0\\dbhomeXE\\bin;C:\\Program Files (x86)\\Common Files\\Oracle\\Java\\javapath;C:\\Windows\\system32;C:\\Windows;C:\\Windows\\System32\\Wbem;C:\\Windows\\System32\\WindowsPowerShell\\v1.0\\;C:\\Windows\\System32\\OpenSSH\\;C:\\Program Files\\Microsoft VS Code\\bin;C:\\Program Files\\NVIDIA Corporation\\NVIDIA NvDLISR;C:\\Program Files (x86)\\NVIDIA Corporation\\PhysX\\Common;C:\\Program Files\\Java\\jdk1.8.0_321\\bin;C:\\Program Files\\Git\\cmd;D:\\Programs\\MATLAB\\R2016a\\bin;C:\\Program Files\\dotnet\\;C:\\Program Files\\Cloudflare\\Cloudflare WARP\\;C:\\Program Files\\Docker\\Docker\\resources\\bin;C:\\ProgramData\\DockerDesktop\\version-bin;C:\\Users\\nihal\\AppData\\Local\\Programs\\Python\\Python39\\Scripts\\;C:\\Users\\nihal\\AppData\\Local\\Programs\\Python\\Python39\\;C:\\Users\\nihal\\AppData\\Local\\Programs\\Python\\Python310\\Scripts\\;C:\\Users\\nihal\\AppData\\Local\\Programs\\Python\\Python310\\;C:\\Users\\nihal\\AppData\\Local\\Microsoft\\WindowsApps;C:\\Spark\\spark-3.2.0-bin-hadoop3.2\\bin;C:\\hadoop\\hadoop 3.2.2\\bin;\n"
     ]
    }
   ],
   "source": [
    "import os\n",
    "\n",
    "path = os.getenv(\"Path\")\n",
    "print(path)"
   ]
  },
  {
   "cell_type": "code",
   "execution_count": null,
   "metadata": {},
   "outputs": [],
   "source": []
  },
  {
   "cell_type": "code",
   "execution_count": null,
   "metadata": {},
   "outputs": [],
   "source": []
  },
  {
   "cell_type": "code",
   "execution_count": 88,
   "metadata": {},
   "outputs": [],
   "source": [
    "s = \"\"\"database_hostname: str\n",
    "database_port: str\n",
    "database_username: str\n",
    "database_password: str\n",
    "database_db_name: str\n",
    "secret_key: str\n",
    "algorithm: str\n",
    "access_token_expire_minutes: int\"\"\""
   ]
  },
  {
   "cell_type": "code",
   "execution_count": 97,
   "metadata": {},
   "outputs": [
    {
     "name": "stdout",
     "output_type": "stream",
     "text": [
      "DATABASE_HOSTNAME=\n",
      "DATABASE_PORT=\n",
      "DATABASE_USERNAME=\n",
      "DATABASE_PASSWORD=\n",
      "DATABASE_DB_NAME=\n",
      "SECRET_KEY=\n",
      "ALGORITHM=\n",
      "ACCESS_TOKEN_EXPIRE_MINUTES=\n"
     ]
    }
   ],
   "source": [
    "for _ in [_.split(':')[0].upper() for _ in s.split('\\n')]:\n",
    "    print(f\"{_}=\")\n"
   ]
  },
  {
   "cell_type": "code",
   "execution_count": 8,
   "metadata": {},
   "outputs": [],
   "source": [
    "req1 = \"\"\"aiofiles==0.5.0\n",
    "alembic==1.6.5\n",
    "aniso8601==7.0.0\n",
    "async-exit-stack==1.0.1\n",
    "async-generator==1.10\n",
    "autopep8==1.5.7\n",
    "bcrypt==3.2.0\n",
    "certifi==2021.5.30\n",
    "cffi==1.14.6\n",
    "charset-normalizer==2.0.4\n",
    "click==7.1.2\n",
    "colorama==0.4.4\n",
    "cryptography==3.4.8\n",
    "dnspython==2.1.0\n",
    "ecdsa==0.17.0\n",
    "email-validator==1.1.3\n",
    "fastapi==0.68.0\n",
    "graphene==2.1.9\n",
    "graphql-core==2.3.2\n",
    "graphql-relay==2.0.1\n",
    "greenlet==1.1.1\n",
    "h11==0.12.0\n",
    "httptools==0.3.0\n",
    "idna==3.2\n",
    "itsdangerous==1.1.0\n",
    "Jinja2==2.11.3\n",
    "Mako==1.1.5\n",
    "MarkupSafe==2.0.1\n",
    "orjson==3.6.1\n",
    "passlib==1.7.4\n",
    "promise==2.3\n",
    "psycopg2==2.9.1\n",
    "pyasn1==0.4.8\n",
    "pycodestyle==2.7.0\n",
    "pycparser==2.20\n",
    "pydantic==1.8.2\n",
    "python-dateutil==2.8.2\n",
    "python-dotenv==0.19.0\n",
    "python-editor==1.0.4\n",
    "python-jose==3.3.0\n",
    "python-multipart==0.0.5\n",
    "PyYAML==5.4.1\n",
    "requests==2.26.0\n",
    "rsa==4.7.2\n",
    "Rx==1.6.1\n",
    "six==1.16.0\n",
    "SQLAlchemy==1.4.23\n",
    "starlette==0.14.2\n",
    "toml==0.10.2\n",
    "typing-extensions==3.10.0.0\n",
    "ujson==4.0.2\n",
    "urllib3==1.26.6\n",
    "uvicorn==0.13.4\n",
    "watchgod==0.7\n",
    "websockets==8.1\"\"\"\n",
    "\n",
    "req2 = \"\"\"alembic==1.8.1\n",
    "anyio==3.5.0\n",
    "asgiref==3.5.0\n",
    "asttokens==2.0.8\n",
    "autopep8==1.7.0\n",
    "backcall==0.2.0\n",
    "bcrypt==4.0.1\n",
    "certifi==2021.10.8\n",
    "cffi==1.15.1\n",
    "charset-normalizer==2.0.12\n",
    "click==8.1.0\n",
    "colorama==0.4.4\n",
    "cryptography==38.0.1\n",
    "debugpy==1.6.3\n",
    "decorator==5.1.1\n",
    "dnspython==2.2.1\n",
    "ecdsa==0.18.0\n",
    "email-validator==1.1.3\n",
    "entrypoints==0.4\n",
    "executing==1.1.0\n",
    "fastapi==0.75.0\n",
    "greenlet==1.1.3.post0\n",
    "h11==0.13.0\n",
    "httptools==0.2.0\n",
    "idna==3.3\n",
    "ipykernel==6.16.0\n",
    "ipython==8.5.0\n",
    "itsdangerous==2.1.2\n",
    "jedi==0.18.1\n",
    "Jinja2==3.1.1\n",
    "jupyter-core==4.11.1\n",
    "jupyter_client==7.3.5\n",
    "Mako==1.2.3\n",
    "MarkupSafe==2.1.1\n",
    "matplotlib-inline==0.1.6\n",
    "nest-asyncio==1.5.6\n",
    "orjson==3.6.7\n",
    "packaging==21.3\n",
    "parso==0.8.3\n",
    "passlib==1.7.4\n",
    "pickleshare==0.7.5\n",
    "prompt-toolkit==3.0.31\n",
    "protobuf==3.20.1\n",
    "psutil==5.9.2\n",
    "psycopg2==2.9.4\n",
    "pure-eval==0.2.2\n",
    "pyasn1==0.4.8\n",
    "pycodestyle==2.9.1\n",
    "pycparser==2.21\n",
    "pydantic==1.9.0\n",
    "Pygments==2.13.0\n",
    "pyparsing==3.0.9\n",
    "python-dateutil==2.8.2\n",
    "python-dotenv==0.20.0\n",
    "python-jose==3.3.0\n",
    "python-multipart==0.0.5\n",
    "pywin32==304\n",
    "PyYAML==5.4.1\n",
    "pyzmq==24.0.1\n",
    "requests==2.27.1\n",
    "rsa==4.9\n",
    "six==1.16.0\n",
    "sniffio==1.2.0\n",
    "SQLAlchemy==1.4.42\n",
    "stack-data==0.5.1\n",
    "starlette==0.17.1\n",
    "toml==0.10.2\n",
    "tornado==6.2\n",
    "traitlets==5.4.0\n",
    "typing_extensions==4.1.1\n",
    "ujson==4.3.0\n",
    "urllib3==1.26.9\n",
    "uvicorn==0.15.0\n",
    "watchgod==0.8.1\n",
    "wcwidth==0.2.5\n",
    "websockets==10.2\n",
    "\"\"\""
   ]
  },
  {
   "cell_type": "code",
   "execution_count": 9,
   "metadata": {},
   "outputs": [],
   "source": [
    "req1l = [_.split('==')[0] for _ in req1.split('\\n')]\n",
    "req2l = [_.split('==')[0] for _ in req2.split('\\n')]"
   ]
  },
  {
   "cell_type": "code",
   "execution_count": 10,
   "metadata": {},
   "outputs": [
    {
     "name": "stdout",
     "output_type": "stream",
     "text": [
      "aiofiles\n",
      "aniso8601\n",
      "async-exit-stack\n",
      "async-generator\n",
      "graphene\n",
      "graphql-core\n",
      "graphql-relay\n",
      "promise\n",
      "python-editor\n",
      "Rx\n",
      "typing-extensions\n"
     ]
    }
   ],
   "source": [
    "for _ in req1l:\n",
    "    if _ not in req2l: print(_)"
   ]
  },
  {
   "cell_type": "code",
   "execution_count": 11,
   "metadata": {},
   "outputs": [
    {
     "data": {
      "text/plain": [
       "['anyio',\n",
       " 'asgiref',\n",
       " 'asttokens',\n",
       " 'backcall',\n",
       " 'debugpy',\n",
       " 'decorator',\n",
       " 'entrypoints',\n",
       " 'executing',\n",
       " 'ipykernel',\n",
       " 'ipython',\n",
       " 'jedi',\n",
       " 'jupyter-core',\n",
       " 'jupyter_client',\n",
       " 'matplotlib-inline',\n",
       " 'nest-asyncio',\n",
       " 'packaging',\n",
       " 'parso',\n",
       " 'pickleshare',\n",
       " 'prompt-toolkit',\n",
       " 'protobuf',\n",
       " 'psutil',\n",
       " 'pure-eval',\n",
       " 'Pygments',\n",
       " 'pyparsing',\n",
       " 'pywin32',\n",
       " 'pyzmq',\n",
       " 'sniffio',\n",
       " 'stack-data',\n",
       " 'tornado',\n",
       " 'traitlets',\n",
       " 'typing_extensions',\n",
       " 'wcwidth',\n",
       " '']"
      ]
     },
     "execution_count": 11,
     "metadata": {},
     "output_type": "execute_result"
    }
   ],
   "source": [
    "rem = [_ for _ in req2l if _ not in req1l]\n",
    "\n",
    "rem"
   ]
  },
  {
   "cell_type": "code",
   "execution_count": 18,
   "metadata": {},
   "outputs": [
    {
     "name": "stdout",
     "output_type": "stream",
     "text": [
      "aiofiles==0.5.0\n",
      "alembic==1.6.5\n",
      "aniso8601==7.0.0\n",
      "async-exit-stack==1.0.1\n",
      "async-generator==1.10\n",
      "autopep8==1.5.7\n",
      "bcrypt==3.2.0\n",
      "certifi==2021.5.30\n",
      "cffi==1.14.6\n",
      "charset-normalizer==2.0.4\n",
      "click==7.1.2\n",
      "colorama==0.4.4\n",
      "cryptography==3.4.8\n",
      "dnspython==2.1.0\n",
      "ecdsa==0.17.0\n",
      "email-validator==1.1.3\n",
      "fastapi==0.68.0\n",
      "graphene==2.1.9\n",
      "graphql-core==2.3.2\n",
      "graphql-relay==2.0.1\n",
      "greenlet==1.1.1\n",
      "h11==0.12.0\n",
      "httptools==0.3.0\n",
      "idna==3.2\n",
      "itsdangerous==1.1.0\n",
      "Jinja2==2.11.3\n",
      "Mako==1.1.5\n",
      "MarkupSafe==2.0.1\n",
      "orjson==3.6.1\n",
      "passlib==1.7.4\n",
      "promise==2.3\n",
      "psycopg2==2.9.1\n",
      "pyasn1==0.4.8\n",
      "pycodestyle==2.7.0\n",
      "pycparser==2.20\n",
      "pydantic==1.8.2\n",
      "python-dateutil==2.8.2\n",
      "python-dotenv==0.19.0\n",
      "python-editor==1.0.4\n",
      "python-jose==3.3.0\n",
      "python-multipart==0.0.5\n",
      "PyYAML==5.4.1\n",
      "requests==2.26.0\n",
      "rsa==4.7.2\n",
      "Rx==1.6.1\n",
      "six==1.16.0\n",
      "SQLAlchemy==1.4.23\n",
      "starlette==0.14.2\n",
      "toml==0.10.2\n",
      "typing-extensions==3.10.0.0\n",
      "ujson==4.0.2\n",
      "urllib3==1.26.6\n",
      "uvicorn==0.13.4\n",
      "watchgod==0.7\n",
      "websockets==8.1\n"
     ]
    }
   ],
   "source": [
    "print('\\n'.join([_ for _ in req1.split('\\n') if _.split('==')[0] not in rem]))"
   ]
  },
  {
   "cell_type": "code",
   "execution_count": null,
   "metadata": {},
   "outputs": [],
   "source": []
  }
 ],
 "metadata": {
  "kernelspec": {
   "display_name": "Python 3.9.10 ('venv': venv)",
   "language": "python",
   "name": "python3"
  },
  "language_info": {
   "codemirror_mode": {
    "name": "ipython",
    "version": 3
   },
   "file_extension": ".py",
   "mimetype": "text/x-python",
   "name": "python",
   "nbconvert_exporter": "python",
   "pygments_lexer": "ipython3",
   "version": "3.9.10"
  },
  "orig_nbformat": 4,
  "vscode": {
   "interpreter": {
    "hash": "5df96c46619feec22d022dd7ed93d78b1a9a652b46848f3309bd7c84cb41f969"
   }
  }
 },
 "nbformat": 4,
 "nbformat_minor": 2
}
