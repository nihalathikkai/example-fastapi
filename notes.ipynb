{
 "cells": [
  {
   "cell_type": "markdown",
   "metadata": {},
   "source": [
    "##### Create a virtual environment  \n",
    "python -m venv venv\n",
    "\n",
    "\n",
    "##### Activate Virtual Environment\n",
    "venv\\Scripts\\activate.bat\n",
    "\n",
    "\n",
    "##### Host the API on local machine\n",
    "uvicorn main:app\n",
    "\n",
    "Host the API on local machine, reload API if any changes detected :-  \n",
    "uvicorn main:app --reload"
   ]
  },
  {
   "cell_type": "markdown",
   "metadata": {},
   "source": [
    "_________________________________________________  \n",
    "HTTP REQUEST  \n",
    "\n",
    "Request:  \n",
    "- Address  \n",
    "- Request method  \n",
    "- Headers  \n",
    "- Body  \n",
    "\n",
    "Response  \n",
    "- Status Code  \n",
    "- Headers  \n",
    "- Body  \n",
    "\n",
    "_________________________________________________"
   ]
  },
  {
   "cell_type": "code",
   "execution_count": null,
   "metadata": {},
   "outputs": [],
   "source": []
  },
  {
   "cell_type": "markdown",
   "metadata": {},
   "source": [
    "Dynamic programming:\n",
    "https://www.youtube.com/watch?v=oBt53YbR9Kk\n",
    "\n",
    "Harvard CS:\n",
    "https://www.youtube.com/watch?v=8mAITcNt710"
   ]
  },
  {
   "cell_type": "code",
   "execution_count": null,
   "metadata": {},
   "outputs": [],
   "source": []
  },
  {
   "cell_type": "code",
   "execution_count": 81,
   "metadata": {},
   "outputs": [],
   "source": []
  },
  {
   "cell_type": "code",
   "execution_count": 2,
   "metadata": {},
   "outputs": [
    {
     "name": "stdout",
     "output_type": "stream",
     "text": [
      "stysh.aalyzdh@example.com musica\n"
     ]
    }
   ],
   "source": [
    "# Create users\n",
    "\n",
    "import requests\n",
    "from datetime import datetime\n",
    "import psycopg2\n",
    "from passlib.context import CryptContext\n",
    "\n",
    "\n",
    "pwd_context = CryptContext(schemes=[\"bcrypt\"], deprecated=\"auto\")\n",
    "\n",
    "\n",
    "def get_password_hash(password):\n",
    "    return pwd_context.hash(password)\n",
    "\n",
    "\n",
    "conn = psycopg2.connect(dbname=\"fastapi\", user=\"postgres\", password=\"superuser\", host=\"localhost\", port=5432)\n",
    "cur = conn.cursor()\n",
    "        \n",
    "        \n",
    "for i in range(10):\n",
    "    r = requests.get('https://randomuser.me/api/')\n",
    "    data = r.json()[\"results\"][0]\n",
    "\n",
    "    email = data[\"email\"]\n",
    "    password = data[\"login\"][\"password\"]\n",
    "    name = data[\"name\"][\"first\"] + \" \" + data[\"name\"][\"last\"]\n",
    "    gender = data[\"gender\"]\n",
    "    country = data[\"location\"][\"country\"]\n",
    "    dob = datetime.strptime(data[\"dob\"][\"date\"][:10], '%Y-%m-%d')\n",
    "    print(email, password)\n",
    "    \n",
    "    password = get_password_hash(password)\n",
    "    cur.execute(\"INSERT INTO users (email, password, name, gender, country, dob) VALUES (%s, %s, %s, %s, %s, %s)\", (email, password, name, gender, country, dob))\n",
    "\n",
    "conn.commit()\n",
    "\n",
    "cur.close()\n",
    "conn.close()\n"
   ]
  },
  {
   "cell_type": "code",
   "execution_count": 86,
   "metadata": {},
   "outputs": [],
   "source": []
  },
  {
   "cell_type": "code",
   "execution_count": 87,
   "metadata": {},
   "outputs": [
    {
     "name": "stdout",
     "output_type": "stream",
     "text": [
      "d:\\python\\FastAPI\\venv\\Scripts;D:\\python\\FastAPI\\venv\\Scripts;D:\\Programs\\Oracle_XE\\18.0.0\\dbhomeXE\\bin;C:\\Program Files (x86)\\Common Files\\Oracle\\Java\\javapath;C:\\Windows\\system32;C:\\Windows;C:\\Windows\\System32\\Wbem;C:\\Windows\\System32\\WindowsPowerShell\\v1.0\\;C:\\Windows\\System32\\OpenSSH\\;C:\\Program Files\\Microsoft VS Code\\bin;C:\\Program Files\\NVIDIA Corporation\\NVIDIA NvDLISR;C:\\Program Files (x86)\\NVIDIA Corporation\\PhysX\\Common;C:\\Program Files\\Java\\jdk1.8.0_321\\bin;C:\\Program Files\\Git\\cmd;D:\\Programs\\MATLAB\\R2016a\\bin;C:\\Program Files\\dotnet\\;C:\\Program Files\\Cloudflare\\Cloudflare WARP\\;C:\\Program Files\\Docker\\Docker\\resources\\bin;C:\\ProgramData\\DockerDesktop\\version-bin;C:\\Users\\nihal\\AppData\\Local\\Programs\\Python\\Python39\\Scripts\\;C:\\Users\\nihal\\AppData\\Local\\Programs\\Python\\Python39\\;C:\\Users\\nihal\\AppData\\Local\\Programs\\Python\\Python310\\Scripts\\;C:\\Users\\nihal\\AppData\\Local\\Programs\\Python\\Python310\\;C:\\Users\\nihal\\AppData\\Local\\Microsoft\\WindowsApps;C:\\Spark\\spark-3.2.0-bin-hadoop3.2\\bin;C:\\hadoop\\hadoop 3.2.2\\bin;\n"
     ]
    }
   ],
   "source": [
    "import os\n",
    "\n",
    "path = os.getenv(\"Path\")\n",
    "print(path)"
   ]
  }
 ],
 "metadata": {
  "kernelspec": {
   "display_name": "Python 3.9.10 ('venv': venv)",
   "language": "python",
   "name": "python3"
  },
  "language_info": {
   "codemirror_mode": {
    "name": "ipython",
    "version": 3
   },
   "file_extension": ".py",
   "mimetype": "text/x-python",
   "name": "python",
   "nbconvert_exporter": "python",
   "pygments_lexer": "ipython3",
   "version": "3.9.10"
  },
  "orig_nbformat": 4,
  "vscode": {
   "interpreter": {
    "hash": "5df96c46619feec22d022dd7ed93d78b1a9a652b46848f3309bd7c84cb41f969"
   }
  }
 },
 "nbformat": 4,
 "nbformat_minor": 2
}
